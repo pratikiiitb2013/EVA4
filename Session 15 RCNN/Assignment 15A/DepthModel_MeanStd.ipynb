{
  "nbformat": 4,
  "nbformat_minor": 0,
  "metadata": {
    "colab": {
      "name": "DepthModel-MeanStd.ipynb",
      "provenance": [],
      "collapsed_sections": []
    },
    "kernelspec": {
      "name": "python3",
      "display_name": "Python 3"
    },
    "widgets": {
      "application/vnd.jupyter.widget-state+json": {
        "88298634b9f74eb8a48edc8aa8a22e66": {
          "model_module": "@jupyter-widgets/controls",
          "model_name": "HBoxModel",
          "state": {
            "_view_name": "HBoxView",
            "_dom_classes": [],
            "_model_name": "HBoxModel",
            "_view_module": "@jupyter-widgets/controls",
            "_model_module_version": "1.5.0",
            "_view_count": null,
            "_view_module_version": "1.5.0",
            "box_style": "",
            "layout": "IPY_MODEL_69f1ad1709574134a3d31b18629a93a5",
            "_model_module": "@jupyter-widgets/controls",
            "children": [
              "IPY_MODEL_892c025951204d819dfbca7ea9c16356",
              "IPY_MODEL_acd606d6f13e409a8fa99b2879408e7f"
            ]
          }
        },
        "69f1ad1709574134a3d31b18629a93a5": {
          "model_module": "@jupyter-widgets/base",
          "model_name": "LayoutModel",
          "state": {
            "_view_name": "LayoutView",
            "grid_template_rows": null,
            "right": null,
            "justify_content": null,
            "_view_module": "@jupyter-widgets/base",
            "overflow": null,
            "_model_module_version": "1.2.0",
            "_view_count": null,
            "flex_flow": null,
            "width": null,
            "min_width": null,
            "border": null,
            "align_items": null,
            "bottom": null,
            "_model_module": "@jupyter-widgets/base",
            "top": null,
            "grid_column": null,
            "overflow_y": null,
            "overflow_x": null,
            "grid_auto_flow": null,
            "grid_area": null,
            "grid_template_columns": null,
            "flex": null,
            "_model_name": "LayoutModel",
            "justify_items": null,
            "grid_row": null,
            "max_height": null,
            "align_content": null,
            "visibility": null,
            "align_self": null,
            "height": null,
            "min_height": null,
            "padding": null,
            "grid_auto_rows": null,
            "grid_gap": null,
            "max_width": null,
            "order": null,
            "_view_module_version": "1.2.0",
            "grid_template_areas": null,
            "object_position": null,
            "object_fit": null,
            "grid_auto_columns": null,
            "margin": null,
            "display": null,
            "left": null
          }
        },
        "892c025951204d819dfbca7ea9c16356": {
          "model_module": "@jupyter-widgets/controls",
          "model_name": "FloatProgressModel",
          "state": {
            "_view_name": "ProgressView",
            "style": "IPY_MODEL_7306111d8b8e4f87b2d00ded1f34f0aa",
            "_dom_classes": [],
            "description": "100%",
            "_model_name": "FloatProgressModel",
            "bar_style": "success",
            "max": 107,
            "_view_module": "@jupyter-widgets/controls",
            "_model_module_version": "1.5.0",
            "value": 107,
            "_view_count": null,
            "_view_module_version": "1.5.0",
            "orientation": "horizontal",
            "min": 0,
            "description_tooltip": null,
            "_model_module": "@jupyter-widgets/controls",
            "layout": "IPY_MODEL_0842dd8dafd04ba296cdbbda8b84780d"
          }
        },
        "acd606d6f13e409a8fa99b2879408e7f": {
          "model_module": "@jupyter-widgets/controls",
          "model_name": "HTMLModel",
          "state": {
            "_view_name": "HTMLView",
            "style": "IPY_MODEL_d7766de5204a4863b5459312c1c5dffe",
            "_dom_classes": [],
            "description": "",
            "_model_name": "HTMLModel",
            "placeholder": "​",
            "_view_module": "@jupyter-widgets/controls",
            "_model_module_version": "1.5.0",
            "value": " 107/107 [00:07&lt;00:00, 15.11it/s]",
            "_view_count": null,
            "_view_module_version": "1.5.0",
            "description_tooltip": null,
            "_model_module": "@jupyter-widgets/controls",
            "layout": "IPY_MODEL_8f96584b418a47d597c58db953227d0d"
          }
        },
        "7306111d8b8e4f87b2d00ded1f34f0aa": {
          "model_module": "@jupyter-widgets/controls",
          "model_name": "ProgressStyleModel",
          "state": {
            "_view_name": "StyleView",
            "_model_name": "ProgressStyleModel",
            "description_width": "initial",
            "_view_module": "@jupyter-widgets/base",
            "_model_module_version": "1.5.0",
            "_view_count": null,
            "_view_module_version": "1.2.0",
            "bar_color": null,
            "_model_module": "@jupyter-widgets/controls"
          }
        },
        "0842dd8dafd04ba296cdbbda8b84780d": {
          "model_module": "@jupyter-widgets/base",
          "model_name": "LayoutModel",
          "state": {
            "_view_name": "LayoutView",
            "grid_template_rows": null,
            "right": null,
            "justify_content": null,
            "_view_module": "@jupyter-widgets/base",
            "overflow": null,
            "_model_module_version": "1.2.0",
            "_view_count": null,
            "flex_flow": null,
            "width": null,
            "min_width": null,
            "border": null,
            "align_items": null,
            "bottom": null,
            "_model_module": "@jupyter-widgets/base",
            "top": null,
            "grid_column": null,
            "overflow_y": null,
            "overflow_x": null,
            "grid_auto_flow": null,
            "grid_area": null,
            "grid_template_columns": null,
            "flex": null,
            "_model_name": "LayoutModel",
            "justify_items": null,
            "grid_row": null,
            "max_height": null,
            "align_content": null,
            "visibility": null,
            "align_self": null,
            "height": null,
            "min_height": null,
            "padding": null,
            "grid_auto_rows": null,
            "grid_gap": null,
            "max_width": null,
            "order": null,
            "_view_module_version": "1.2.0",
            "grid_template_areas": null,
            "object_position": null,
            "object_fit": null,
            "grid_auto_columns": null,
            "margin": null,
            "display": null,
            "left": null
          }
        },
        "d7766de5204a4863b5459312c1c5dffe": {
          "model_module": "@jupyter-widgets/controls",
          "model_name": "DescriptionStyleModel",
          "state": {
            "_view_name": "StyleView",
            "_model_name": "DescriptionStyleModel",
            "description_width": "",
            "_view_module": "@jupyter-widgets/base",
            "_model_module_version": "1.5.0",
            "_view_count": null,
            "_view_module_version": "1.2.0",
            "_model_module": "@jupyter-widgets/controls"
          }
        },
        "8f96584b418a47d597c58db953227d0d": {
          "model_module": "@jupyter-widgets/base",
          "model_name": "LayoutModel",
          "state": {
            "_view_name": "LayoutView",
            "grid_template_rows": null,
            "right": null,
            "justify_content": null,
            "_view_module": "@jupyter-widgets/base",
            "overflow": null,
            "_model_module_version": "1.2.0",
            "_view_count": null,
            "flex_flow": null,
            "width": null,
            "min_width": null,
            "border": null,
            "align_items": null,
            "bottom": null,
            "_model_module": "@jupyter-widgets/base",
            "top": null,
            "grid_column": null,
            "overflow_y": null,
            "overflow_x": null,
            "grid_auto_flow": null,
            "grid_area": null,
            "grid_template_columns": null,
            "flex": null,
            "_model_name": "LayoutModel",
            "justify_items": null,
            "grid_row": null,
            "max_height": null,
            "align_content": null,
            "visibility": null,
            "align_self": null,
            "height": null,
            "min_height": null,
            "padding": null,
            "grid_auto_rows": null,
            "grid_gap": null,
            "max_width": null,
            "order": null,
            "_view_module_version": "1.2.0",
            "grid_template_areas": null,
            "object_position": null,
            "object_fit": null,
            "grid_auto_columns": null,
            "margin": null,
            "display": null,
            "left": null
          }
        },
        "9fe115314c0a4111afb9a037f34741fa": {
          "model_module": "@jupyter-widgets/controls",
          "model_name": "HBoxModel",
          "state": {
            "_view_name": "HBoxView",
            "_dom_classes": [],
            "_model_name": "HBoxModel",
            "_view_module": "@jupyter-widgets/controls",
            "_model_module_version": "1.5.0",
            "_view_count": null,
            "_view_module_version": "1.5.0",
            "box_style": "",
            "layout": "IPY_MODEL_8333181824f54a4b9c325392f4a8b924",
            "_model_module": "@jupyter-widgets/controls",
            "children": [
              "IPY_MODEL_9676d31e30b24ea0b22ad3e3eb401aec",
              "IPY_MODEL_deac32b7e5d14aa5ba48f5c3496e4fb2"
            ]
          }
        },
        "8333181824f54a4b9c325392f4a8b924": {
          "model_module": "@jupyter-widgets/base",
          "model_name": "LayoutModel",
          "state": {
            "_view_name": "LayoutView",
            "grid_template_rows": null,
            "right": null,
            "justify_content": null,
            "_view_module": "@jupyter-widgets/base",
            "overflow": null,
            "_model_module_version": "1.2.0",
            "_view_count": null,
            "flex_flow": null,
            "width": null,
            "min_width": null,
            "border": null,
            "align_items": null,
            "bottom": null,
            "_model_module": "@jupyter-widgets/base",
            "top": null,
            "grid_column": null,
            "overflow_y": null,
            "overflow_x": null,
            "grid_auto_flow": null,
            "grid_area": null,
            "grid_template_columns": null,
            "flex": null,
            "_model_name": "LayoutModel",
            "justify_items": null,
            "grid_row": null,
            "max_height": null,
            "align_content": null,
            "visibility": null,
            "align_self": null,
            "height": null,
            "min_height": null,
            "padding": null,
            "grid_auto_rows": null,
            "grid_gap": null,
            "max_width": null,
            "order": null,
            "_view_module_version": "1.2.0",
            "grid_template_areas": null,
            "object_position": null,
            "object_fit": null,
            "grid_auto_columns": null,
            "margin": null,
            "display": null,
            "left": null
          }
        },
        "9676d31e30b24ea0b22ad3e3eb401aec": {
          "model_module": "@jupyter-widgets/controls",
          "model_name": "FloatProgressModel",
          "state": {
            "_view_name": "ProgressView",
            "style": "IPY_MODEL_437603bb75fc4ba6877a63ccbf7ebc28",
            "_dom_classes": [],
            "description": "100%",
            "_model_name": "FloatProgressModel",
            "bar_style": "success",
            "max": 428000,
            "_view_module": "@jupyter-widgets/controls",
            "_model_module_version": "1.5.0",
            "value": 428000,
            "_view_count": null,
            "_view_module_version": "1.5.0",
            "orientation": "horizontal",
            "min": 0,
            "description_tooltip": null,
            "_model_module": "@jupyter-widgets/controls",
            "layout": "IPY_MODEL_1704861e2cf34dc1906104e5757717ff"
          }
        },
        "deac32b7e5d14aa5ba48f5c3496e4fb2": {
          "model_module": "@jupyter-widgets/controls",
          "model_name": "HTMLModel",
          "state": {
            "_view_name": "HTMLView",
            "style": "IPY_MODEL_ed55c68e3b5941d3b33296c9c5892c5a",
            "_dom_classes": [],
            "description": "",
            "_model_name": "HTMLModel",
            "placeholder": "​",
            "_view_module": "@jupyter-widgets/controls",
            "_model_module_version": "1.5.0",
            "value": " 428000/428000 [28:27&lt;00:00, 250.63it/s]",
            "_view_count": null,
            "_view_module_version": "1.5.0",
            "description_tooltip": null,
            "_model_module": "@jupyter-widgets/controls",
            "layout": "IPY_MODEL_e5e17912e10543549d592c3f6163cf6f"
          }
        },
        "437603bb75fc4ba6877a63ccbf7ebc28": {
          "model_module": "@jupyter-widgets/controls",
          "model_name": "ProgressStyleModel",
          "state": {
            "_view_name": "StyleView",
            "_model_name": "ProgressStyleModel",
            "description_width": "initial",
            "_view_module": "@jupyter-widgets/base",
            "_model_module_version": "1.5.0",
            "_view_count": null,
            "_view_module_version": "1.2.0",
            "bar_color": null,
            "_model_module": "@jupyter-widgets/controls"
          }
        },
        "1704861e2cf34dc1906104e5757717ff": {
          "model_module": "@jupyter-widgets/base",
          "model_name": "LayoutModel",
          "state": {
            "_view_name": "LayoutView",
            "grid_template_rows": null,
            "right": null,
            "justify_content": null,
            "_view_module": "@jupyter-widgets/base",
            "overflow": null,
            "_model_module_version": "1.2.0",
            "_view_count": null,
            "flex_flow": null,
            "width": null,
            "min_width": null,
            "border": null,
            "align_items": null,
            "bottom": null,
            "_model_module": "@jupyter-widgets/base",
            "top": null,
            "grid_column": null,
            "overflow_y": null,
            "overflow_x": null,
            "grid_auto_flow": null,
            "grid_area": null,
            "grid_template_columns": null,
            "flex": null,
            "_model_name": "LayoutModel",
            "justify_items": null,
            "grid_row": null,
            "max_height": null,
            "align_content": null,
            "visibility": null,
            "align_self": null,
            "height": null,
            "min_height": null,
            "padding": null,
            "grid_auto_rows": null,
            "grid_gap": null,
            "max_width": null,
            "order": null,
            "_view_module_version": "1.2.0",
            "grid_template_areas": null,
            "object_position": null,
            "object_fit": null,
            "grid_auto_columns": null,
            "margin": null,
            "display": null,
            "left": null
          }
        },
        "ed55c68e3b5941d3b33296c9c5892c5a": {
          "model_module": "@jupyter-widgets/controls",
          "model_name": "DescriptionStyleModel",
          "state": {
            "_view_name": "StyleView",
            "_model_name": "DescriptionStyleModel",
            "description_width": "",
            "_view_module": "@jupyter-widgets/base",
            "_model_module_version": "1.5.0",
            "_view_count": null,
            "_view_module_version": "1.2.0",
            "_model_module": "@jupyter-widgets/controls"
          }
        },
        "e5e17912e10543549d592c3f6163cf6f": {
          "model_module": "@jupyter-widgets/base",
          "model_name": "LayoutModel",
          "state": {
            "_view_name": "LayoutView",
            "grid_template_rows": null,
            "right": null,
            "justify_content": null,
            "_view_module": "@jupyter-widgets/base",
            "overflow": null,
            "_model_module_version": "1.2.0",
            "_view_count": null,
            "flex_flow": null,
            "width": null,
            "min_width": null,
            "border": null,
            "align_items": null,
            "bottom": null,
            "_model_module": "@jupyter-widgets/base",
            "top": null,
            "grid_column": null,
            "overflow_y": null,
            "overflow_x": null,
            "grid_auto_flow": null,
            "grid_area": null,
            "grid_template_columns": null,
            "flex": null,
            "_model_name": "LayoutModel",
            "justify_items": null,
            "grid_row": null,
            "max_height": null,
            "align_content": null,
            "visibility": null,
            "align_self": null,
            "height": null,
            "min_height": null,
            "padding": null,
            "grid_auto_rows": null,
            "grid_gap": null,
            "max_width": null,
            "order": null,
            "_view_module_version": "1.2.0",
            "grid_template_areas": null,
            "object_position": null,
            "object_fit": null,
            "grid_auto_columns": null,
            "margin": null,
            "display": null,
            "left": null
          }
        },
        "bc2781d9d0804e0da90c25dc1305612e": {
          "model_module": "@jupyter-widgets/controls",
          "model_name": "HBoxModel",
          "state": {
            "_view_name": "HBoxView",
            "_dom_classes": [],
            "_model_name": "HBoxModel",
            "_view_module": "@jupyter-widgets/controls",
            "_model_module_version": "1.5.0",
            "_view_count": null,
            "_view_module_version": "1.5.0",
            "box_style": "",
            "layout": "IPY_MODEL_172504f52a4e4aba91d7ebce0b8ed4dd",
            "_model_module": "@jupyter-widgets/controls",
            "children": [
              "IPY_MODEL_ef8079990bab43c186db02ea13c443ad",
              "IPY_MODEL_279af998b57b415d8c14431f459c0afd"
            ]
          }
        },
        "172504f52a4e4aba91d7ebce0b8ed4dd": {
          "model_module": "@jupyter-widgets/base",
          "model_name": "LayoutModel",
          "state": {
            "_view_name": "LayoutView",
            "grid_template_rows": null,
            "right": null,
            "justify_content": null,
            "_view_module": "@jupyter-widgets/base",
            "overflow": null,
            "_model_module_version": "1.2.0",
            "_view_count": null,
            "flex_flow": null,
            "width": null,
            "min_width": null,
            "border": null,
            "align_items": null,
            "bottom": null,
            "_model_module": "@jupyter-widgets/base",
            "top": null,
            "grid_column": null,
            "overflow_y": null,
            "overflow_x": null,
            "grid_auto_flow": null,
            "grid_area": null,
            "grid_template_columns": null,
            "flex": null,
            "_model_name": "LayoutModel",
            "justify_items": null,
            "grid_row": null,
            "max_height": null,
            "align_content": null,
            "visibility": null,
            "align_self": null,
            "height": null,
            "min_height": null,
            "padding": null,
            "grid_auto_rows": null,
            "grid_gap": null,
            "max_width": null,
            "order": null,
            "_view_module_version": "1.2.0",
            "grid_template_areas": null,
            "object_position": null,
            "object_fit": null,
            "grid_auto_columns": null,
            "margin": null,
            "display": null,
            "left": null
          }
        },
        "ef8079990bab43c186db02ea13c443ad": {
          "model_module": "@jupyter-widgets/controls",
          "model_name": "FloatProgressModel",
          "state": {
            "_view_name": "ProgressView",
            "style": "IPY_MODEL_77d92ff663234394ba6553be558b3e2a",
            "_dom_classes": [],
            "description": "100%",
            "_model_name": "FloatProgressModel",
            "bar_style": "success",
            "max": 428000,
            "_view_module": "@jupyter-widgets/controls",
            "_model_module_version": "1.5.0",
            "value": 428000,
            "_view_count": null,
            "_view_module_version": "1.5.0",
            "orientation": "horizontal",
            "min": 0,
            "description_tooltip": null,
            "_model_module": "@jupyter-widgets/controls",
            "layout": "IPY_MODEL_4b0aa953e2c44b8eadd95ddb60dcc0f6"
          }
        },
        "279af998b57b415d8c14431f459c0afd": {
          "model_module": "@jupyter-widgets/controls",
          "model_name": "HTMLModel",
          "state": {
            "_view_name": "HTMLView",
            "style": "IPY_MODEL_a461110d3ca0416fb2c21e67795c603f",
            "_dom_classes": [],
            "description": "",
            "_model_name": "HTMLModel",
            "placeholder": "​",
            "_view_module": "@jupyter-widgets/controls",
            "_model_module_version": "1.5.0",
            "value": " 428000/428000 [22:47&lt;00:00, 312.88it/s]",
            "_view_count": null,
            "_view_module_version": "1.5.0",
            "description_tooltip": null,
            "_model_module": "@jupyter-widgets/controls",
            "layout": "IPY_MODEL_7ed9b5535fd24a46b54e2ddd95daaf03"
          }
        },
        "77d92ff663234394ba6553be558b3e2a": {
          "model_module": "@jupyter-widgets/controls",
          "model_name": "ProgressStyleModel",
          "state": {
            "_view_name": "StyleView",
            "_model_name": "ProgressStyleModel",
            "description_width": "initial",
            "_view_module": "@jupyter-widgets/base",
            "_model_module_version": "1.5.0",
            "_view_count": null,
            "_view_module_version": "1.2.0",
            "bar_color": null,
            "_model_module": "@jupyter-widgets/controls"
          }
        },
        "4b0aa953e2c44b8eadd95ddb60dcc0f6": {
          "model_module": "@jupyter-widgets/base",
          "model_name": "LayoutModel",
          "state": {
            "_view_name": "LayoutView",
            "grid_template_rows": null,
            "right": null,
            "justify_content": null,
            "_view_module": "@jupyter-widgets/base",
            "overflow": null,
            "_model_module_version": "1.2.0",
            "_view_count": null,
            "flex_flow": null,
            "width": null,
            "min_width": null,
            "border": null,
            "align_items": null,
            "bottom": null,
            "_model_module": "@jupyter-widgets/base",
            "top": null,
            "grid_column": null,
            "overflow_y": null,
            "overflow_x": null,
            "grid_auto_flow": null,
            "grid_area": null,
            "grid_template_columns": null,
            "flex": null,
            "_model_name": "LayoutModel",
            "justify_items": null,
            "grid_row": null,
            "max_height": null,
            "align_content": null,
            "visibility": null,
            "align_self": null,
            "height": null,
            "min_height": null,
            "padding": null,
            "grid_auto_rows": null,
            "grid_gap": null,
            "max_width": null,
            "order": null,
            "_view_module_version": "1.2.0",
            "grid_template_areas": null,
            "object_position": null,
            "object_fit": null,
            "grid_auto_columns": null,
            "margin": null,
            "display": null,
            "left": null
          }
        },
        "a461110d3ca0416fb2c21e67795c603f": {
          "model_module": "@jupyter-widgets/controls",
          "model_name": "DescriptionStyleModel",
          "state": {
            "_view_name": "StyleView",
            "_model_name": "DescriptionStyleModel",
            "description_width": "",
            "_view_module": "@jupyter-widgets/base",
            "_model_module_version": "1.5.0",
            "_view_count": null,
            "_view_module_version": "1.2.0",
            "_model_module": "@jupyter-widgets/controls"
          }
        },
        "7ed9b5535fd24a46b54e2ddd95daaf03": {
          "model_module": "@jupyter-widgets/base",
          "model_name": "LayoutModel",
          "state": {
            "_view_name": "LayoutView",
            "grid_template_rows": null,
            "right": null,
            "justify_content": null,
            "_view_module": "@jupyter-widgets/base",
            "overflow": null,
            "_model_module_version": "1.2.0",
            "_view_count": null,
            "flex_flow": null,
            "width": null,
            "min_width": null,
            "border": null,
            "align_items": null,
            "bottom": null,
            "_model_module": "@jupyter-widgets/base",
            "top": null,
            "grid_column": null,
            "overflow_y": null,
            "overflow_x": null,
            "grid_auto_flow": null,
            "grid_area": null,
            "grid_template_columns": null,
            "flex": null,
            "_model_name": "LayoutModel",
            "justify_items": null,
            "grid_row": null,
            "max_height": null,
            "align_content": null,
            "visibility": null,
            "align_self": null,
            "height": null,
            "min_height": null,
            "padding": null,
            "grid_auto_rows": null,
            "grid_gap": null,
            "max_width": null,
            "order": null,
            "_view_module_version": "1.2.0",
            "grid_template_areas": null,
            "object_position": null,
            "object_fit": null,
            "grid_auto_columns": null,
            "margin": null,
            "display": null,
            "left": null
          }
        },
        "96dc03b292a14b5fac9b1a1e85d92007": {
          "model_module": "@jupyter-widgets/controls",
          "model_name": "HBoxModel",
          "state": {
            "_view_name": "HBoxView",
            "_dom_classes": [],
            "_model_name": "HBoxModel",
            "_view_module": "@jupyter-widgets/controls",
            "_model_module_version": "1.5.0",
            "_view_count": null,
            "_view_module_version": "1.5.0",
            "box_style": "",
            "layout": "IPY_MODEL_3391044410b443f08f6b596aa52dca8b",
            "_model_module": "@jupyter-widgets/controls",
            "children": [
              "IPY_MODEL_84653ead75b749f581b8caf01ff1d8e5",
              "IPY_MODEL_131f833ff2de4182bc00a65db80388f2"
            ]
          }
        },
        "3391044410b443f08f6b596aa52dca8b": {
          "model_module": "@jupyter-widgets/base",
          "model_name": "LayoutModel",
          "state": {
            "_view_name": "LayoutView",
            "grid_template_rows": null,
            "right": null,
            "justify_content": null,
            "_view_module": "@jupyter-widgets/base",
            "overflow": null,
            "_model_module_version": "1.2.0",
            "_view_count": null,
            "flex_flow": null,
            "width": null,
            "min_width": null,
            "border": null,
            "align_items": null,
            "bottom": null,
            "_model_module": "@jupyter-widgets/base",
            "top": null,
            "grid_column": null,
            "overflow_y": null,
            "overflow_x": null,
            "grid_auto_flow": null,
            "grid_area": null,
            "grid_template_columns": null,
            "flex": null,
            "_model_name": "LayoutModel",
            "justify_items": null,
            "grid_row": null,
            "max_height": null,
            "align_content": null,
            "visibility": null,
            "align_self": null,
            "height": null,
            "min_height": null,
            "padding": null,
            "grid_auto_rows": null,
            "grid_gap": null,
            "max_width": null,
            "order": null,
            "_view_module_version": "1.2.0",
            "grid_template_areas": null,
            "object_position": null,
            "object_fit": null,
            "grid_auto_columns": null,
            "margin": null,
            "display": null,
            "left": null
          }
        },
        "84653ead75b749f581b8caf01ff1d8e5": {
          "model_module": "@jupyter-widgets/controls",
          "model_name": "FloatProgressModel",
          "state": {
            "_view_name": "ProgressView",
            "style": "IPY_MODEL_b81f6a6a41af4f4f9419bd1361a4d77d",
            "_dom_classes": [],
            "description": "100%",
            "_model_name": "FloatProgressModel",
            "bar_style": "success",
            "max": 4000,
            "_view_module": "@jupyter-widgets/controls",
            "_model_module_version": "1.5.0",
            "value": 4000,
            "_view_count": null,
            "_view_module_version": "1.5.0",
            "orientation": "horizontal",
            "min": 0,
            "description_tooltip": null,
            "_model_module": "@jupyter-widgets/controls",
            "layout": "IPY_MODEL_b847a7282292407bb210483a360cf446"
          }
        },
        "131f833ff2de4182bc00a65db80388f2": {
          "model_module": "@jupyter-widgets/controls",
          "model_name": "HTMLModel",
          "state": {
            "_view_name": "HTMLView",
            "style": "IPY_MODEL_a663cf9f02ee4799a6150e9efd5059dc",
            "_dom_classes": [],
            "description": "",
            "_model_name": "HTMLModel",
            "placeholder": "​",
            "_view_module": "@jupyter-widgets/controls",
            "_model_module_version": "1.5.0",
            "value": " 4000/4000 [00:16&lt;00:00, 236.67it/s]",
            "_view_count": null,
            "_view_module_version": "1.5.0",
            "description_tooltip": null,
            "_model_module": "@jupyter-widgets/controls",
            "layout": "IPY_MODEL_df6c649602d8425eb9d351a991400e15"
          }
        },
        "b81f6a6a41af4f4f9419bd1361a4d77d": {
          "model_module": "@jupyter-widgets/controls",
          "model_name": "ProgressStyleModel",
          "state": {
            "_view_name": "StyleView",
            "_model_name": "ProgressStyleModel",
            "description_width": "initial",
            "_view_module": "@jupyter-widgets/base",
            "_model_module_version": "1.5.0",
            "_view_count": null,
            "_view_module_version": "1.2.0",
            "bar_color": null,
            "_model_module": "@jupyter-widgets/controls"
          }
        },
        "b847a7282292407bb210483a360cf446": {
          "model_module": "@jupyter-widgets/base",
          "model_name": "LayoutModel",
          "state": {
            "_view_name": "LayoutView",
            "grid_template_rows": null,
            "right": null,
            "justify_content": null,
            "_view_module": "@jupyter-widgets/base",
            "overflow": null,
            "_model_module_version": "1.2.0",
            "_view_count": null,
            "flex_flow": null,
            "width": null,
            "min_width": null,
            "border": null,
            "align_items": null,
            "bottom": null,
            "_model_module": "@jupyter-widgets/base",
            "top": null,
            "grid_column": null,
            "overflow_y": null,
            "overflow_x": null,
            "grid_auto_flow": null,
            "grid_area": null,
            "grid_template_columns": null,
            "flex": null,
            "_model_name": "LayoutModel",
            "justify_items": null,
            "grid_row": null,
            "max_height": null,
            "align_content": null,
            "visibility": null,
            "align_self": null,
            "height": null,
            "min_height": null,
            "padding": null,
            "grid_auto_rows": null,
            "grid_gap": null,
            "max_width": null,
            "order": null,
            "_view_module_version": "1.2.0",
            "grid_template_areas": null,
            "object_position": null,
            "object_fit": null,
            "grid_auto_columns": null,
            "margin": null,
            "display": null,
            "left": null
          }
        },
        "a663cf9f02ee4799a6150e9efd5059dc": {
          "model_module": "@jupyter-widgets/controls",
          "model_name": "DescriptionStyleModel",
          "state": {
            "_view_name": "StyleView",
            "_model_name": "DescriptionStyleModel",
            "description_width": "",
            "_view_module": "@jupyter-widgets/base",
            "_model_module_version": "1.5.0",
            "_view_count": null,
            "_view_module_version": "1.2.0",
            "_model_module": "@jupyter-widgets/controls"
          }
        },
        "df6c649602d8425eb9d351a991400e15": {
          "model_module": "@jupyter-widgets/base",
          "model_name": "LayoutModel",
          "state": {
            "_view_name": "LayoutView",
            "grid_template_rows": null,
            "right": null,
            "justify_content": null,
            "_view_module": "@jupyter-widgets/base",
            "overflow": null,
            "_model_module_version": "1.2.0",
            "_view_count": null,
            "flex_flow": null,
            "width": null,
            "min_width": null,
            "border": null,
            "align_items": null,
            "bottom": null,
            "_model_module": "@jupyter-widgets/base",
            "top": null,
            "grid_column": null,
            "overflow_y": null,
            "overflow_x": null,
            "grid_auto_flow": null,
            "grid_area": null,
            "grid_template_columns": null,
            "flex": null,
            "_model_name": "LayoutModel",
            "justify_items": null,
            "grid_row": null,
            "max_height": null,
            "align_content": null,
            "visibility": null,
            "align_self": null,
            "height": null,
            "min_height": null,
            "padding": null,
            "grid_auto_rows": null,
            "grid_gap": null,
            "max_width": null,
            "order": null,
            "_view_module_version": "1.2.0",
            "grid_template_areas": null,
            "object_position": null,
            "object_fit": null,
            "grid_auto_columns": null,
            "margin": null,
            "display": null,
            "left": null
          }
        }
      }
    }
  },
  "cells": [
    {
      "cell_type": "code",
      "metadata": {
        "id": "FPLhcqUFiU4w",
        "colab_type": "code",
        "outputId": "1dd1c67f-a478-49e8-f8bc-b091d77b4197",
        "colab": {
          "base_uri": "https://localhost:8080/",
          "height": 122
        }
      },
      "source": [
        "from google.colab import drive\n",
        "drive.mount('/content/gdrive')\n"
      ],
      "execution_count": 1,
      "outputs": [
        {
          "output_type": "stream",
          "text": [
            "Go to this URL in a browser: https://accounts.google.com/o/oauth2/auth?client_id=947318989803-6bn6qk8qdgf4n4g3pfee6491hc0brc4i.apps.googleusercontent.com&redirect_uri=urn%3aietf%3awg%3aoauth%3a2.0%3aoob&response_type=code&scope=email%20https%3a%2f%2fwww.googleapis.com%2fauth%2fdocs.test%20https%3a%2f%2fwww.googleapis.com%2fauth%2fdrive%20https%3a%2f%2fwww.googleapis.com%2fauth%2fdrive.photos.readonly%20https%3a%2f%2fwww.googleapis.com%2fauth%2fpeopleapi.readonly\n",
            "\n",
            "Enter your authorization code:\n",
            "··········\n",
            "Mounted at /content/gdrive\n"
          ],
          "name": "stdout"
        }
      ]
    },
    {
      "cell_type": "code",
      "metadata": {
        "id": "L3IK0lPTip2r",
        "colab_type": "code",
        "outputId": "81a2d346-ef2a-4e12-8e90-830a1d70cfa1",
        "colab": {
          "base_uri": "https://localhost:8080/",
          "height": 34
        }
      },
      "source": [
        "%cd /content/gdrive/My Drive/EVA/"
      ],
      "execution_count": 2,
      "outputs": [
        {
          "output_type": "stream",
          "text": [
            "/content/gdrive/My Drive/EVA\n"
          ],
          "name": "stdout"
        }
      ]
    },
    {
      "cell_type": "code",
      "metadata": {
        "id": "sd5mJ6kICDH2",
        "colab_type": "code",
        "outputId": "2bcc5d56-169a-40c3-da4d-c879e1f27184",
        "colab": {
          "base_uri": "https://localhost:8080/",
          "height": 34
        }
      },
      "source": [
        "!pwd"
      ],
      "execution_count": 3,
      "outputs": [
        {
          "output_type": "stream",
          "text": [
            "/content/gdrive/My Drive/EVA\n"
          ],
          "name": "stdout"
        }
      ]
    },
    {
      "cell_type": "code",
      "metadata": {
        "id": "1TEVzco0iwfM",
        "colab_type": "code",
        "outputId": "91ed3251-cdfc-4a79-aa83-a7e3cd58416b",
        "colab": {
          "base_uri": "https://localhost:8080/",
          "height": 255
        }
      },
      "source": [
        "!ls -l"
      ],
      "execution_count": 4,
      "outputs": [
        {
          "output_type": "stream",
          "text": [
            "ls: bg_scld_opmzd: No such file or directory\n",
            "ls: data: No such file or directory\n",
            "ls: 'EVA 15A Dataset': No such file or directory\n",
            "total 6429681\n",
            "-rw------- 1 root root  944366544 May  9 11:01  bg_fg_images_masks_str.zip\n",
            "-r-------- 1 root root 5574672534 May  9 09:14  bg_fg_images_str.zip\n",
            "-rw------- 1 root root    1532043 May  9 11:36  bg_images.zip\n",
            "lrw------- 1 root root          0 May  9 11:00  bg_scld_opmzd -> /content/gdrive/.shortcut-targets-by-id/1Fi2K2QTpKgfmMd0dH9xFptBlNEqyF0uY/bg_scld_opmzd\n",
            "lrw------- 1 root root          0 May 10 08:51  data -> /content/gdrive/.shortcut-targets-by-id/1uAsyblbBx3APE6TkcgwVbXvdeybQXge9/data\n",
            "-rw------- 1 root root   61541083 May  9 08:31  depth-mask.zip\n",
            "lrw------- 1 root root          0 May 10 08:52 'EVA 15A Dataset' -> /content/gdrive/.shortcut-targets-by-id/1uAsyblbBx3APE6TkcgwVbXvdeybQXge9/data\n",
            "-rw------- 1 root root    1871572 May  9 11:56  fg_images.zip\n",
            "drwx------ 2 root root       4096 May  6 08:00  Folder1\n",
            "drwx------ 2 root root       4096 May  9 06:59  Results\n"
          ],
          "name": "stdout"
        }
      ]
    },
    {
      "cell_type": "code",
      "metadata": {
        "id": "d0uMPr4Ui_u-",
        "colab_type": "code",
        "outputId": "0fd05cce-d7c6-4777-993b-ec4d381852fc",
        "colab": {
          "base_uri": "https://localhost:8080/",
          "height": 71
        }
      },
      "source": [
        "from zipfile import ZipFile\n",
        "import zipfile\n",
        "import numpy as np\n",
        "import matplotlib.pyplot as plt\n",
        "import seaborn as sns\n",
        "from PIL import Image\n",
        "import io\n",
        "from itertools import groupby\n",
        "import cv2\n",
        "from tqdm.auto import tqdm\n",
        "from pathlib import Path\n",
        "from time import time\n",
        "from torchvision import datasets\n",
        "from torch.utils.data import DataLoader\n",
        "from torch.utils.data import Dataset\n",
        "from torch.utils.data import random_split\n",
        "from PIL import Image\n",
        "import torchvision.transforms as T\n",
        "import os\n",
        "import torch\n",
        "sns.set()"
      ],
      "execution_count": 5,
      "outputs": [
        {
          "output_type": "stream",
          "text": [
            "/usr/local/lib/python3.6/dist-packages/statsmodels/tools/_testing.py:19: FutureWarning: pandas.util.testing is deprecated. Use the functions in the public API at pandas.testing instead.\n",
            "  import pandas.util.testing as tm\n"
          ],
          "name": "stderr"
        }
      ]
    },
    {
      "cell_type": "markdown",
      "metadata": {
        "id": "4TSbKbgajwZ7",
        "colab_type": "text"
      },
      "source": [
        "Let's see if the dataset works"
      ]
    },
    {
      "cell_type": "code",
      "metadata": {
        "id": "1XIuvrsRix1w",
        "colab_type": "code",
        "colab": {}
      },
      "source": [
        "fg_bg_zip =  ZipFile('bg_fg_images_str.zip', 'r')"
      ],
      "execution_count": 0,
      "outputs": []
    },
    {
      "cell_type": "code",
      "metadata": {
        "id": "nO3B59AujCxq",
        "colab_type": "code",
        "colab": {}
      },
      "source": [
        "all_files = [info.filename for info in fg_bg_zip.infolist() if not info.is_dir()]"
      ],
      "execution_count": 0,
      "outputs": []
    },
    {
      "cell_type": "code",
      "metadata": {
        "id": "eB8r6mZ8jJXd",
        "colab_type": "code",
        "outputId": "9aee137a-573e-4501-f3b3-1039a7927037",
        "colab": {
          "base_uri": "https://localhost:8080/",
          "height": 34
        }
      },
      "source": [
        "len(all_files)"
      ],
      "execution_count": 0,
      "outputs": [
        {
          "output_type": "execute_result",
          "data": {
            "text/plain": [
              "428000"
            ]
          },
          "metadata": {
            "tags": []
          },
          "execution_count": 8
        }
      ]
    },
    {
      "cell_type": "code",
      "metadata": {
        "id": "k-dyf90IyaU4",
        "colab_type": "code",
        "colab": {}
      },
      "source": [
        "fg_bg_zip =  ZipFile('bg_images.zip', 'r')"
      ],
      "execution_count": 0,
      "outputs": []
    },
    {
      "cell_type": "code",
      "metadata": {
        "id": "FS4DP7G3yno-",
        "colab_type": "code",
        "outputId": "20fdefce-0f47-4830-a24c-ae9fc508c239",
        "colab": {
          "base_uri": "https://localhost:8080/",
          "height": 34
        }
      },
      "source": [
        "all_files = [info.filename for info in fg_bg_zip.infolist() if not info.is_dir()]\n",
        "len(all_files)"
      ],
      "execution_count": 0,
      "outputs": [
        {
          "output_type": "execute_result",
          "data": {
            "text/plain": [
              "107"
            ]
          },
          "metadata": {
            "tags": []
          },
          "execution_count": 10
        }
      ]
    },
    {
      "cell_type": "code",
      "metadata": {
        "id": "KHJImqfKzFr_",
        "colab_type": "code",
        "colab": {}
      },
      "source": [
        "for idx, file in enumerate(all_files):\n",
        "    imgdata = fg_bg_zip.read(file)\n",
        "    img = Image.open(io.BytesIO(imgdata))\n",
        "    img = img.convert(\"RGB\")\n",
        "\n",
        "    if idx % 1000 == 0:\n",
        "        print(f'processed {file} to {img.size}')"
      ],
      "execution_count": 0,
      "outputs": []
    },
    {
      "cell_type": "code",
      "metadata": {
        "id": "tpHR0gGsjLnv",
        "colab_type": "code",
        "colab": {}
      },
      "source": [
        "class DenseDepth(Dataset):\n",
        "    '''\n",
        "    DenseDepth Dataset\n",
        "\n",
        "    Input is fg_bg image AND bg image\n",
        "    Target is fg_bg_mask AND depth_fg_bg image\n",
        "    '''\n",
        "    def __init__(self, root, data='fg_bg', train=True, transform=None, target_transform=None, download=False):\n",
        "        self.root = root\n",
        "        self.transform = transform\n",
        "        self.target_transform = target_transform\n",
        "\n",
        "        # open the respective data and target\n",
        "        bg_zip = ZipFile(os.path.join(self.root,'bg_images.zip'), 'r') # bg\n",
        "        fg_bg_zip =  ZipFile(os.path.join(self.root,'bg_fg_images_str.zip'), 'r') # fg_bg\n",
        "        fg_bg_mask_zip = ZipFile(os.path.join(self.root,'bg_fg_images_masks_str.zip'), 'r') # fg_bg_mask\n",
        "        depth_fg_bg_zip =  ZipFile(os.path.join(self.root,'EVA 15A Dataset/depth_output/bgScaled_0.zip'), 'r') # target\n",
        "\n",
        "        bg_paths = [info.filename for info in bg_zip.infolist() if not info.is_dir()]\n",
        "        fg_bg_paths = [info.filename for info in fg_bg_zip.infolist() if not info.is_dir()]\n",
        "        fg_bg_mask_paths = [info.filename for info in fg_bg_mask_zip.infolist() if not info.is_dir()]\n",
        "        depth_fg_bg_paths = [info.filename for info in depth_fg_bg_zip.infolist() if not info.is_dir()]\n",
        "\n",
        "\n",
        "        # fg_bg_masks_w_depth = zip(fg_bg_paths, fg_bg_mask_paths)\n",
        "\n",
        "\n",
        "        assert(len(bg_paths) == 107)\n",
        "        assert(len(fg_bg_paths) == 428000)\n",
        "        assert(len(fg_bg_mask_paths) == 428000)\n",
        "        #assert(len(depth_fg_bg_paths) == 400000)\n",
        "\n",
        "        #print(f'found {len(bg_paths)} bg images, {len(fg_bg_paths)} fg_bg images, {len(fg_bg_mask_paths)} fg_bg_mask images, {len(depth_fg_bg_paths)} depth_fg_bg images')\n",
        "\n",
        "\n",
        "        if data == 'fg_bg':\n",
        "            self.image_zip = fg_bg_zip\n",
        "            self.image_paths = fg_bg_paths\n",
        "        elif data == 'bg':\n",
        "            self.image_zip = bg_zip\n",
        "            self.image_paths = bg_paths\n",
        "        elif data == 'fg_bg_mask':\n",
        "            self.image_zip = fg_bg_mask_zip\n",
        "            self.image_paths = fg_bg_mask_paths\n",
        "        elif data == 'depth_fg_bg':\n",
        "            self.image_zip = depth_fg_bg_zip\n",
        "            self.image_paths = depth_fg_bg_paths\n",
        "        else:\n",
        "            raise f'{data} is not a valid option'\n",
        "\n",
        "        self.targets = []\n",
        "\n",
        "        # train_size = int(0.8 * len(self.image_paths))\n",
        "        # test_size = len(self.image_paths) - train_size\n",
        "\n",
        "        # train_paths, test_paths = torch.utils.data.random_split(, [train_size, test_size])\n",
        "\n",
        "        # if train:\n",
        "\n",
        "    def __getitem__(self, index):\n",
        "        imgdata = self.image_zip.read(self.image_paths[index])\n",
        "        img = Image.open(io.BytesIO(imgdata))\n",
        "        img = img.convert(\"RGB\")\n",
        "        img = np.array(img)\n",
        "\n",
        "        if self.transform is not None:\n",
        "            img = self.transform(img)\n",
        "        \n",
        "        return img\n",
        "\n",
        "        # filepath = self.image_paths[index]\n",
        "        # img = Image.open(filepath)\n",
        "        # img = img.convert(\"RGB\")\n",
        "        # target = self.target[index]\n",
        "\n",
        "        # if self.transform is not None:\n",
        "        #     img = self.transform(img)\n",
        "\n",
        "        # if self.target_transform is not None:\n",
        "        #     target = self.target_transform(target)\n",
        "\n",
        "        # return img, target\n",
        "\n",
        "    def __len__(self):\n",
        "        return len(self.image_paths)"
      ],
      "execution_count": 0,
      "outputs": []
    },
    {
      "cell_type": "code",
      "metadata": {
        "id": "3ik8Mk1N1Xka",
        "colab_type": "code",
        "colab": {}
      },
      "source": [
        "#del depth_dataset, depth_dataloader"
      ],
      "execution_count": 0,
      "outputs": []
    },
    {
      "cell_type": "code",
      "metadata": {
        "id": "dzTcpIQ0oxDN",
        "colab_type": "code",
        "colab": {}
      },
      "source": [
        "depth_dataset = DenseDepth(root='./', transform=T.Compose([T.ToTensor()]))"
      ],
      "execution_count": 0,
      "outputs": []
    },
    {
      "cell_type": "code",
      "metadata": {
        "id": "u_hx827wntRw",
        "colab_type": "code",
        "colab": {}
      },
      "source": [
        "depth_dataloader = DataLoader(depth_dataset, batch_size=4, shuffle=True, num_workers=1)"
      ],
      "execution_count": 0,
      "outputs": []
    },
    {
      "cell_type": "code",
      "metadata": {
        "id": "dbeQ_ksso-nl",
        "colab_type": "code",
        "colab": {}
      },
      "source": [
        "def get_mean_and_std(dataset):\n",
        "    '''Compute the mean and std value of dataset.'''\n",
        "    dataloader = torch.utils.data.DataLoader(\n",
        "        dataset, batch_size=1, shuffle=True, num_workers=1)\n",
        "    mean = torch.zeros(3)\n",
        "    std = torch.zeros(3)\n",
        "    print('==> Computing mean and std..')\n",
        "    for images in tqdm(dataloader):\n",
        "        for i in range(3):\n",
        "            mean[i] += images[:, i, :, :].mean()\n",
        "            std[i] += images[:, i, :, :].std()\n",
        "    mean.div_(len(dataset))\n",
        "    std.div_(len(dataset))\n",
        "    return mean, std"
      ],
      "execution_count": 0,
      "outputs": []
    },
    {
      "cell_type": "markdown",
      "metadata": {
        "id": "13vrN4quCSwE",
        "colab_type": "text"
      },
      "source": [
        "## Compute Mean and Std dev. for BG images"
      ]
    },
    {
      "cell_type": "code",
      "metadata": {
        "id": "w3gSRX7GCFBA",
        "colab_type": "code",
        "outputId": "fc3b9b15-16ee-4642-b23f-a5cce0a081c1",
        "colab": {
          "base_uri": "https://localhost:8080/",
          "height": 83,
          "referenced_widgets": [
            "88298634b9f74eb8a48edc8aa8a22e66",
            "69f1ad1709574134a3d31b18629a93a5",
            "892c025951204d819dfbca7ea9c16356",
            "acd606d6f13e409a8fa99b2879408e7f",
            "7306111d8b8e4f87b2d00ded1f34f0aa",
            "0842dd8dafd04ba296cdbbda8b84780d",
            "d7766de5204a4863b5459312c1c5dffe",
            "8f96584b418a47d597c58db953227d0d"
          ]
        }
      },
      "source": [
        "bg_dataset = DenseDepth(root='./', data='bg', transform=T.Compose([T.ToTensor()]))\n",
        "mean, std = get_mean_and_std(bg_dataset)"
      ],
      "execution_count": 0,
      "outputs": [
        {
          "output_type": "stream",
          "text": [
            "==> Computing mean and std..\n"
          ],
          "name": "stdout"
        },
        {
          "output_type": "display_data",
          "data": {
            "application/vnd.jupyter.widget-view+json": {
              "model_id": "88298634b9f74eb8a48edc8aa8a22e66",
              "version_minor": 0,
              "version_major": 2
            },
            "text/plain": [
              "HBox(children=(FloatProgress(value=0.0, max=107.0), HTML(value='')))"
            ]
          },
          "metadata": {
            "tags": []
          }
        },
        {
          "output_type": "stream",
          "text": [
            "\n"
          ],
          "name": "stdout"
        }
      ]
    },
    {
      "cell_type": "code",
      "metadata": {
        "id": "dXprJOr0Ddrw",
        "colab_type": "code",
        "outputId": "ade8b2f5-6d81-4c22-b618-4535b99db755",
        "colab": {
          "base_uri": "https://localhost:8080/",
          "height": 51
        }
      },
      "source": [
        "[f'{m:.15f}' for m in mean], [f'{s:.15f}' for s in std]"
      ],
      "execution_count": 0,
      "outputs": [
        {
          "output_type": "execute_result",
          "data": {
            "text/plain": [
              "(['0.514309406280518', '0.506399869918823', '0.491128325462341'],\n",
              " ['0.222627013921738', '0.222440108656883', '0.236961439251900'])"
            ]
          },
          "metadata": {
            "tags": []
          },
          "execution_count": 16
        }
      ]
    },
    {
      "cell_type": "markdown",
      "metadata": {
        "id": "Vk4lc55QCYGd",
        "colab_type": "text"
      },
      "source": [
        "## Compute Mean and Std dev. for fg_bg images"
      ]
    },
    {
      "cell_type": "code",
      "metadata": {
        "id": "iM-82bAVwKcW",
        "colab_type": "code",
        "outputId": "85ec512a-cffc-433a-e2fb-0a9df1d76209",
        "colab": {
          "base_uri": "https://localhost:8080/",
          "height": 83,
          "referenced_widgets": [
            "9fe115314c0a4111afb9a037f34741fa",
            "8333181824f54a4b9c325392f4a8b924",
            "9676d31e30b24ea0b22ad3e3eb401aec",
            "deac32b7e5d14aa5ba48f5c3496e4fb2",
            "437603bb75fc4ba6877a63ccbf7ebc28",
            "1704861e2cf34dc1906104e5757717ff",
            "ed55c68e3b5941d3b33296c9c5892c5a",
            "e5e17912e10543549d592c3f6163cf6f"
          ]
        }
      },
      "source": [
        "fg_bg_dataset = DenseDepth(root='./', data='fg_bg', transform=T.Compose([T.ToTensor()]))\n",
        "mean, std = get_mean_and_std(fg_bg_dataset)"
      ],
      "execution_count": 0,
      "outputs": [
        {
          "output_type": "stream",
          "text": [
            "==> Computing mean and std..\n"
          ],
          "name": "stdout"
        },
        {
          "output_type": "display_data",
          "data": {
            "application/vnd.jupyter.widget-view+json": {
              "model_id": "9fe115314c0a4111afb9a037f34741fa",
              "version_minor": 0,
              "version_major": 2
            },
            "text/plain": [
              "HBox(children=(FloatProgress(value=0.0, max=428000.0), HTML(value='')))"
            ]
          },
          "metadata": {
            "tags": []
          }
        },
        {
          "output_type": "stream",
          "text": [
            "\n"
          ],
          "name": "stdout"
        }
      ]
    },
    {
      "cell_type": "code",
      "metadata": {
        "id": "xs1IUw63DxcJ",
        "colab_type": "code",
        "outputId": "399cb3d8-01bd-4799-9a4d-5b3c3a4afa2b",
        "colab": {
          "base_uri": "https://localhost:8080/",
          "height": 51
        }
      },
      "source": [
        "[f'{m:.15f}' for m in mean], [f'{s:.15f}' for s in std]"
      ],
      "execution_count": 0,
      "outputs": [
        {
          "output_type": "execute_result",
          "data": {
            "text/plain": [
              "(['0.517005503177643', '0.505432009696960', '0.487791448831558'],\n",
              " ['0.229048311710358', '0.227772325277328', '0.242317050695419'])"
            ]
          },
          "metadata": {
            "tags": []
          },
          "execution_count": 18
        }
      ]
    },
    {
      "cell_type": "markdown",
      "metadata": {
        "id": "l-E1p3g_Cc4J",
        "colab_type": "text"
      },
      "source": [
        "## Compute Mean and Std dev. for fg_bg_mask"
      ]
    },
    {
      "cell_type": "code",
      "metadata": {
        "id": "F9nAZP0QCX5X",
        "colab_type": "code",
        "outputId": "576d9c7c-dfb4-4e05-da3b-55aa45c760b8",
        "colab": {
          "base_uri": "https://localhost:8080/",
          "height": 66,
          "referenced_widgets": [
            "bc2781d9d0804e0da90c25dc1305612e",
            "172504f52a4e4aba91d7ebce0b8ed4dd",
            "ef8079990bab43c186db02ea13c443ad",
            "279af998b57b415d8c14431f459c0afd",
            "77d92ff663234394ba6553be558b3e2a",
            "4b0aa953e2c44b8eadd95ddb60dcc0f6",
            "a461110d3ca0416fb2c21e67795c603f",
            "7ed9b5535fd24a46b54e2ddd95daaf03"
          ]
        }
      },
      "source": [
        "fg_bg_mask_dataset = DenseDepth(root='./', data='fg_bg_mask', transform=T.Compose([T.ToTensor()]))\n",
        "mean, std = get_mean_and_std(fg_bg_mask_dataset)"
      ],
      "execution_count": 0,
      "outputs": [
        {
          "output_type": "stream",
          "text": [
            "==> Computing mean and std..\n"
          ],
          "name": "stdout"
        },
        {
          "output_type": "display_data",
          "data": {
            "application/vnd.jupyter.widget-view+json": {
              "model_id": "bc2781d9d0804e0da90c25dc1305612e",
              "version_minor": 0,
              "version_major": 2
            },
            "text/plain": [
              "HBox(children=(FloatProgress(value=0.0, max=428000.0), HTML(value='')))"
            ]
          },
          "metadata": {
            "tags": []
          }
        },
        {
          "output_type": "stream",
          "text": [
            "\n"
          ],
          "name": "stdout"
        }
      ]
    },
    {
      "cell_type": "code",
      "metadata": {
        "id": "0gXpcAH-D3Jh",
        "colab_type": "code",
        "outputId": "a3c6fc40-241c-43cd-cd4c-d98497dc9cdc",
        "colab": {
          "base_uri": "https://localhost:8080/",
          "height": 51
        }
      },
      "source": [
        "[f'{m:.15f}' for m in mean], [f'{s:.15f}' for s in std]"
      ],
      "execution_count": 0,
      "outputs": [
        {
          "output_type": "execute_result",
          "data": {
            "text/plain": [
              "(['0.051495332270861', '0.051495332270861', '0.051495332270861'],\n",
              " ['0.214586526155472', '0.214586526155472', '0.214586526155472'])"
            ]
          },
          "metadata": {
            "tags": []
          },
          "execution_count": 20
        }
      ]
    },
    {
      "cell_type": "markdown",
      "metadata": {
        "id": "zkPHJnh8DEnR",
        "colab_type": "text"
      },
      "source": [
        "## Compute Mean and Std dev. for depth_fg_bg"
      ]
    },
    {
      "cell_type": "code",
      "metadata": {
        "id": "VDB-EvsuDEbS",
        "colab_type": "code",
        "outputId": "44ebd5ee-a9b1-47f2-dfc2-79f947fb18fa",
        "colab": {
          "base_uri": "https://localhost:8080/",
          "height": 83,
          "referenced_widgets": [
            "96dc03b292a14b5fac9b1a1e85d92007",
            "3391044410b443f08f6b596aa52dca8b",
            "84653ead75b749f581b8caf01ff1d8e5",
            "131f833ff2de4182bc00a65db80388f2",
            "b81f6a6a41af4f4f9419bd1361a4d77d",
            "b847a7282292407bb210483a360cf446",
            "a663cf9f02ee4799a6150e9efd5059dc",
            "df6c649602d8425eb9d351a991400e15"
          ]
        }
      },
      "source": [
        "depth_fg_bg_dataset = DenseDepth(root='./', data='depth_fg_bg', transform=T.Compose([T.ToTensor()]))\n",
        "mean, std = get_mean_and_std(depth_fg_bg_dataset)"
      ],
      "execution_count": 10,
      "outputs": [
        {
          "output_type": "stream",
          "text": [
            "==> Computing mean and std..\n"
          ],
          "name": "stdout"
        },
        {
          "output_type": "display_data",
          "data": {
            "application/vnd.jupyter.widget-view+json": {
              "model_id": "96dc03b292a14b5fac9b1a1e85d92007",
              "version_minor": 0,
              "version_major": 2
            },
            "text/plain": [
              "HBox(children=(FloatProgress(value=0.0, max=4000.0), HTML(value='')))"
            ]
          },
          "metadata": {
            "tags": []
          }
        },
        {
          "output_type": "stream",
          "text": [
            "\n"
          ],
          "name": "stdout"
        }
      ]
    },
    {
      "cell_type": "code",
      "metadata": {
        "id": "F-mq43fcD6J2",
        "colab_type": "code",
        "outputId": "50535e4f-b0fb-4cb4-c074-59b47846d467",
        "colab": {
          "base_uri": "https://localhost:8080/",
          "height": 51
        }
      },
      "source": [
        "[f'{m:.15f}' for m in mean], [f'{s:.15f}' for s in std]"
      ],
      "execution_count": 11,
      "outputs": [
        {
          "output_type": "execute_result",
          "data": {
            "text/plain": [
              "(['0.374479949474335', '0.374479949474335', '0.374479949474335'],\n",
              " ['0.210883036255836', '0.210883036255836', '0.210883036255836'])"
            ]
          },
          "metadata": {
            "tags": []
          },
          "execution_count": 11
        }
      ]
    },
    {
      "cell_type": "code",
      "metadata": {
        "id": "YveT6mABw7kX",
        "colab_type": "code",
        "colab": {}
      },
      "source": [
        "f = open(root_path, 'rb')\n",
        "self.zip_content = f.read()\n",
        "f.close()\n",
        "self.zip_file = zipfile.ZipFile(io.BytesIO(self.zip_content), 'r')"
      ],
      "execution_count": 0,
      "outputs": []
    }
  ]
}