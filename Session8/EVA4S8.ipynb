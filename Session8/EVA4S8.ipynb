{
  "nbformat": 4,
  "nbformat_minor": 0,
  "metadata": {
    "colab": {
      "name": "EVA4S8.ipynb",
      "provenance": [],
      "collapsed_sections": [],
      "authorship_tag": "ABX9TyO0exF8Q6s9/orUV805Spex",
      "include_colab_link": true
    },
    "kernelspec": {
      "name": "python3",
      "display_name": "Python 3"
    },
    "accelerator": "GPU"
  },
  "cells": [
    {
      "cell_type": "markdown",
      "metadata": {
        "id": "view-in-github",
        "colab_type": "text"
      },
      "source": [
        "<a href=\"https://colab.research.google.com/github/pratikiiitb2013/EVA4/blob/master/Session8/EVA4S8.ipynb\" target=\"_parent\"><img src=\"https://colab.research.google.com/assets/colab-badge.svg\" alt=\"Open In Colab\"/></a>"
      ]
    },
    {
      "cell_type": "code",
      "metadata": {
        "id": "OBbUJLqLkn-M",
        "colab_type": "code",
        "outputId": "8d4ce77b-64a7-4e0c-f125-e8ccb16a7d06",
        "colab": {
          "base_uri": "https://localhost:8080/",
          "height": 34
        }
      },
      "source": [
        "\n",
        "from google.colab import drive\n",
        "drive.mount('/content/gdrive/')"
      ],
      "execution_count": 8,
      "outputs": [
        {
          "output_type": "stream",
          "text": [
            "Drive already mounted at /content/gdrive/; to attempt to forcibly remount, call drive.mount(\"/content/gdrive/\", force_remount=True).\n"
          ],
          "name": "stdout"
        }
      ]
    },
    {
      "cell_type": "code",
      "metadata": {
        "id": "T6pZL9Y7ktiZ",
        "colab_type": "code",
        "outputId": "5c0eae34-c0ab-4d9b-ebc4-3d10babf939d",
        "colab": {
          "base_uri": "https://localhost:8080/",
          "height": 54
        }
      },
      "source": [
        "import sys\n",
        "print(sys.path)"
      ],
      "execution_count": 9,
      "outputs": [
        {
          "output_type": "stream",
          "text": [
            "['', '/env/python', '/usr/lib/python36.zip', '/usr/lib/python3.6', '/usr/lib/python3.6/lib-dynload', '/usr/local/lib/python3.6/dist-packages', '/usr/lib/python3/dist-packages', '/usr/local/lib/python3.6/dist-packages/IPython/extensions', '/root/.ipython', '/content/gdrive/My Drive/Colab Notebooks/EVA4/py_files_sid/']\n"
          ],
          "name": "stdout"
        }
      ]
    },
    {
      "cell_type": "code",
      "metadata": {
        "id": "jIk_oa_0lMIE",
        "colab_type": "code",
        "colab": {}
      },
      "source": [
        "path = '/content/gdrive/My Drive/Colab Notebooks/EVA4/py_files_sid/'\n",
        "sys.path.append(path)"
      ],
      "execution_count": 0,
      "outputs": []
    },
    {
      "cell_type": "code",
      "metadata": {
        "id": "eSvjCFTslvQu",
        "colab_type": "code",
        "colab": {}
      },
      "source": [
        "from imports_eva import *\n",
        "import data_loaders as dl                         # Loading CIFAR10 data into train/test dataloaders\n",
        "import model_file as mfile                        # ResNet18 Model architecture\n",
        "import train_test_functions as ttfunc             # Model training and validation functions\n",
        "import test_performance as tperform               # Class wise model accuracy and confusion matrix plot\n",
        "import model_plots as mp                          # Plotting the Train/Test plots for loss and accuracy\n",
        "import misclassified                              # Display misclassified images by the trained model"
      ],
      "execution_count": 0,
      "outputs": []
    },
    {
      "cell_type": "code",
      "metadata": {
        "id": "ep_XbxnD-2d-",
        "colab_type": "code",
        "colab": {
          "base_uri": "https://localhost:8080/",
          "height": 51
        },
        "outputId": "c1fe15ce-e379-40f7-f7b9-2a08bcd1dd12"
      },
      "source": [
        "trainloader, testloader = dl.train_test_loaders()"
      ],
      "execution_count": 12,
      "outputs": [
        {
          "output_type": "stream",
          "text": [
            "Files already downloaded and verified\n",
            "Files already downloaded and verified\n"
          ],
          "name": "stdout"
        }
      ]
    },
    {
      "cell_type": "code",
      "metadata": {
        "id": "1Qcpl48zny6O",
        "colab_type": "code",
        "colab": {}
      },
      "source": [
        "classes = ('plane', 'car', 'bird', 'cat',\n",
        "           'deer', 'dog', 'frog', 'horse', 'ship', 'truck')"
      ],
      "execution_count": 0,
      "outputs": []
    },
    {
      "cell_type": "code",
      "metadata": {
        "id": "OWmrnNkWoTyZ",
        "colab_type": "code",
        "outputId": "c69557f6-325f-41b5-9501-dcf85199d94b",
        "colab": {
          "base_uri": "https://localhost:8080/",
          "height": 1000
        }
      },
      "source": [
        "!pip install torchsummary\n",
        "from torchsummary import summary\n",
        "use_cuda = torch.cuda.is_available()\n",
        "device = torch.device(\"cuda\" if use_cuda else \"cpu\")\n",
        "print(device)\n",
        "model = mfile.return_model().to(device)\n",
        "summary(model, input_size=(3, 32, 32))"
      ],
      "execution_count": 14,
      "outputs": [
        {
          "output_type": "stream",
          "text": [
            "Requirement already satisfied: torchsummary in /usr/local/lib/python3.6/dist-packages (1.5.1)\n",
            "cuda\n",
            "----------------------------------------------------------------\n",
            "        Layer (type)               Output Shape         Param #\n",
            "================================================================\n",
            "            Conv2d-1           [-1, 64, 32, 32]           1,728\n",
            "       BatchNorm2d-2           [-1, 64, 32, 32]             128\n",
            "         Dropout2d-3           [-1, 64, 32, 32]               0\n",
            "            Conv2d-4           [-1, 64, 32, 32]          36,864\n",
            "       BatchNorm2d-5           [-1, 64, 32, 32]             128\n",
            "         Dropout2d-6           [-1, 64, 32, 32]               0\n",
            "            Conv2d-7           [-1, 64, 32, 32]          36,864\n",
            "       BatchNorm2d-8           [-1, 64, 32, 32]             128\n",
            "         Dropout2d-9           [-1, 64, 32, 32]               0\n",
            "       BasicBlock-10           [-1, 64, 32, 32]               0\n",
            "           Conv2d-11           [-1, 64, 32, 32]          36,864\n",
            "      BatchNorm2d-12           [-1, 64, 32, 32]             128\n",
            "        Dropout2d-13           [-1, 64, 32, 32]               0\n",
            "           Conv2d-14           [-1, 64, 32, 32]          36,864\n",
            "      BatchNorm2d-15           [-1, 64, 32, 32]             128\n",
            "        Dropout2d-16           [-1, 64, 32, 32]               0\n",
            "       BasicBlock-17           [-1, 64, 32, 32]               0\n",
            "           Conv2d-18          [-1, 128, 16, 16]          73,728\n",
            "      BatchNorm2d-19          [-1, 128, 16, 16]             256\n",
            "        Dropout2d-20          [-1, 128, 16, 16]               0\n",
            "           Conv2d-21          [-1, 128, 16, 16]         147,456\n",
            "      BatchNorm2d-22          [-1, 128, 16, 16]             256\n",
            "        Dropout2d-23          [-1, 128, 16, 16]               0\n",
            "           Conv2d-24          [-1, 128, 16, 16]           8,192\n",
            "      BatchNorm2d-25          [-1, 128, 16, 16]             256\n",
            "        Dropout2d-26          [-1, 128, 16, 16]               0\n",
            "       BasicBlock-27          [-1, 128, 16, 16]               0\n",
            "           Conv2d-28          [-1, 128, 16, 16]         147,456\n",
            "      BatchNorm2d-29          [-1, 128, 16, 16]             256\n",
            "        Dropout2d-30          [-1, 128, 16, 16]               0\n",
            "           Conv2d-31          [-1, 128, 16, 16]         147,456\n",
            "      BatchNorm2d-32          [-1, 128, 16, 16]             256\n",
            "        Dropout2d-33          [-1, 128, 16, 16]               0\n",
            "       BasicBlock-34          [-1, 128, 16, 16]               0\n",
            "           Conv2d-35            [-1, 256, 8, 8]         294,912\n",
            "      BatchNorm2d-36            [-1, 256, 8, 8]             512\n",
            "        Dropout2d-37            [-1, 256, 8, 8]               0\n",
            "           Conv2d-38            [-1, 256, 8, 8]         589,824\n",
            "      BatchNorm2d-39            [-1, 256, 8, 8]             512\n",
            "        Dropout2d-40            [-1, 256, 8, 8]               0\n",
            "           Conv2d-41            [-1, 256, 8, 8]          32,768\n",
            "      BatchNorm2d-42            [-1, 256, 8, 8]             512\n",
            "        Dropout2d-43            [-1, 256, 8, 8]               0\n",
            "       BasicBlock-44            [-1, 256, 8, 8]               0\n",
            "           Conv2d-45            [-1, 256, 8, 8]         589,824\n",
            "      BatchNorm2d-46            [-1, 256, 8, 8]             512\n",
            "        Dropout2d-47            [-1, 256, 8, 8]               0\n",
            "           Conv2d-48            [-1, 256, 8, 8]         589,824\n",
            "      BatchNorm2d-49            [-1, 256, 8, 8]             512\n",
            "        Dropout2d-50            [-1, 256, 8, 8]               0\n",
            "       BasicBlock-51            [-1, 256, 8, 8]               0\n",
            "           Conv2d-52            [-1, 512, 4, 4]       1,179,648\n",
            "      BatchNorm2d-53            [-1, 512, 4, 4]           1,024\n",
            "        Dropout2d-54            [-1, 512, 4, 4]               0\n",
            "           Conv2d-55            [-1, 512, 4, 4]       2,359,296\n",
            "      BatchNorm2d-56            [-1, 512, 4, 4]           1,024\n",
            "        Dropout2d-57            [-1, 512, 4, 4]               0\n",
            "           Conv2d-58            [-1, 512, 4, 4]         131,072\n",
            "      BatchNorm2d-59            [-1, 512, 4, 4]           1,024\n",
            "        Dropout2d-60            [-1, 512, 4, 4]               0\n",
            "       BasicBlock-61            [-1, 512, 4, 4]               0\n",
            "           Conv2d-62            [-1, 512, 4, 4]       2,359,296\n",
            "      BatchNorm2d-63            [-1, 512, 4, 4]           1,024\n",
            "        Dropout2d-64            [-1, 512, 4, 4]               0\n",
            "           Conv2d-65            [-1, 512, 4, 4]       2,359,296\n",
            "      BatchNorm2d-66            [-1, 512, 4, 4]           1,024\n",
            "        Dropout2d-67            [-1, 512, 4, 4]               0\n",
            "       BasicBlock-68            [-1, 512, 4, 4]               0\n",
            "           Linear-69                   [-1, 10]           5,130\n",
            "================================================================\n",
            "Total params: 11,173,962\n",
            "Trainable params: 11,173,962\n",
            "Non-trainable params: 0\n",
            "----------------------------------------------------------------\n",
            "Input size (MB): 0.01\n",
            "Forward/backward pass size (MB): 15.94\n",
            "Params size (MB): 42.63\n",
            "Estimated Total Size (MB): 58.57\n",
            "----------------------------------------------------------------\n"
          ],
          "name": "stdout"
        }
      ]
    },
    {
      "cell_type": "code",
      "metadata": {
        "id": "RyjgfEQVoWJI",
        "colab_type": "code",
        "outputId": "ebea44ae-5b26-4ce1-8449-e155b72873d8",
        "colab": {
          "base_uri": "https://localhost:8080/",
          "height": 1000
        }
      },
      "source": [
        "from torch.optim.lr_scheduler import MultiStepLR\n",
        "# model = mfile.return_model().to(device)\n",
        "optimizer = optim.SGD(model.parameters(), lr=0.01, momentum=0.9, weight_decay=0.001)\n",
        "#scheduler = StepLR(optimizer, step_size=12, gamma=0.1)\n",
        "#scheduler = ReduceLROnPlateau(optimizer, 'min', patience=3)\n",
        "scheduler = MultiStepLR(optimizer, milestones=[14,18], gamma=0.1)\n",
        "\n",
        "EPOCHS = 20\n",
        "for epoch in range(EPOCHS):\n",
        "    print(\"EPOCH:\", epoch + 1)\n",
        "    ta, tl   =  ttfunc.train(model, device, trainloader, optimizer, epoch)\n",
        "    ta1, tl1 =  ttfunc.test(model, device, testloader, classes)\n",
        "    scheduler.step()\n",
        "    print('')"
      ],
      "execution_count": 15,
      "outputs": [
        {
          "output_type": "stream",
          "text": [
            "\r  0%|          | 0/391 [00:00<?, ?it/s]"
          ],
          "name": "stderr"
        },
        {
          "output_type": "stream",
          "text": [
            "EPOCH: 1\n"
          ],
          "name": "stdout"
        },
        {
          "output_type": "stream",
          "text": [
            "Loss=1.0870977640151978 Batch_id=390 Accuracy=41.45: 100%|██████████| 391/391 [01:09<00:00,  6.22it/s]\n",
            "  0%|          | 0/391 [00:00<?, ?it/s]"
          ],
          "name": "stderr"
        },
        {
          "output_type": "stream",
          "text": [
            "\n",
            "Test set: Average loss: 0.0101, Accuracy: 5448/10000 (54.48%)\n",
            "\n",
            "\n",
            "EPOCH: 2\n"
          ],
          "name": "stdout"
        },
        {
          "output_type": "stream",
          "text": [
            "Loss=0.9237354397773743 Batch_id=390 Accuracy=58.65: 100%|██████████| 391/391 [01:09<00:00,  6.21it/s]\n",
            "  0%|          | 0/391 [00:00<?, ?it/s]"
          ],
          "name": "stderr"
        },
        {
          "output_type": "stream",
          "text": [
            "\n",
            "Test set: Average loss: 0.0073, Accuracy: 6737/10000 (67.37%)\n",
            "\n",
            "\n",
            "EPOCH: 3\n"
          ],
          "name": "stdout"
        },
        {
          "output_type": "stream",
          "text": [
            "Loss=0.6811982989311218 Batch_id=390 Accuracy=68.15: 100%|██████████| 391/391 [01:09<00:00,  6.21it/s]\n",
            "  0%|          | 0/391 [00:00<?, ?it/s]"
          ],
          "name": "stderr"
        },
        {
          "output_type": "stream",
          "text": [
            "\n",
            "Test set: Average loss: 0.0063, Accuracy: 7344/10000 (73.44%)\n",
            "\n",
            "\n",
            "EPOCH: 4\n"
          ],
          "name": "stdout"
        },
        {
          "output_type": "stream",
          "text": [
            "Loss=0.743315577507019 Batch_id=390 Accuracy=73.07: 100%|██████████| 391/391 [01:10<00:00,  6.26it/s]\n",
            "  0%|          | 0/391 [00:00<?, ?it/s]"
          ],
          "name": "stderr"
        },
        {
          "output_type": "stream",
          "text": [
            "\n",
            "Test set: Average loss: 0.0052, Accuracy: 7721/10000 (77.21%)\n",
            "\n",
            "\n",
            "EPOCH: 5\n"
          ],
          "name": "stdout"
        },
        {
          "output_type": "stream",
          "text": [
            "Loss=0.7581570744514465 Batch_id=390 Accuracy=76.29: 100%|██████████| 391/391 [01:10<00:00,  6.25it/s]\n",
            "  0%|          | 0/391 [00:00<?, ?it/s]"
          ],
          "name": "stderr"
        },
        {
          "output_type": "stream",
          "text": [
            "\n",
            "Test set: Average loss: 0.0046, Accuracy: 8003/10000 (80.03%)\n",
            "\n",
            "\n",
            "EPOCH: 6\n"
          ],
          "name": "stdout"
        },
        {
          "output_type": "stream",
          "text": [
            "Loss=0.7263234853744507 Batch_id=390 Accuracy=78.68: 100%|██████████| 391/391 [01:09<00:00,  6.27it/s]\n",
            "  0%|          | 0/391 [00:00<?, ?it/s]"
          ],
          "name": "stderr"
        },
        {
          "output_type": "stream",
          "text": [
            "\n",
            "Test set: Average loss: 0.0049, Accuracy: 7852/10000 (78.52%)\n",
            "\n",
            "\n",
            "EPOCH: 7\n"
          ],
          "name": "stdout"
        },
        {
          "output_type": "stream",
          "text": [
            "Loss=0.6407915353775024 Batch_id=390 Accuracy=80.63: 100%|██████████| 391/391 [01:09<00:00,  6.22it/s]\n",
            "  0%|          | 0/391 [00:00<?, ?it/s]"
          ],
          "name": "stderr"
        },
        {
          "output_type": "stream",
          "text": [
            "\n",
            "Test set: Average loss: 0.0041, Accuracy: 8222/10000 (82.22%)\n",
            "\n",
            "\n",
            "EPOCH: 8\n"
          ],
          "name": "stdout"
        },
        {
          "output_type": "stream",
          "text": [
            "Loss=0.4340116083621979 Batch_id=390 Accuracy=81.67: 100%|██████████| 391/391 [01:10<00:00,  6.28it/s]\n",
            "  0%|          | 0/391 [00:00<?, ?it/s]"
          ],
          "name": "stderr"
        },
        {
          "output_type": "stream",
          "text": [
            "\n",
            "Test set: Average loss: 0.0040, Accuracy: 8289/10000 (82.89%)\n",
            "\n",
            "\n",
            "EPOCH: 9\n"
          ],
          "name": "stdout"
        },
        {
          "output_type": "stream",
          "text": [
            "Loss=0.4963441491127014 Batch_id=390 Accuracy=83.00: 100%|██████████| 391/391 [01:10<00:00,  6.28it/s]\n",
            "  0%|          | 0/391 [00:00<?, ?it/s]"
          ],
          "name": "stderr"
        },
        {
          "output_type": "stream",
          "text": [
            "\n",
            "Test set: Average loss: 0.0039, Accuracy: 8362/10000 (83.62%)\n",
            "\n",
            "\n",
            "EPOCH: 10\n"
          ],
          "name": "stdout"
        },
        {
          "output_type": "stream",
          "text": [
            "Loss=0.4665961265563965 Batch_id=390 Accuracy=84.16: 100%|██████████| 391/391 [01:09<00:00,  6.25it/s]\n",
            "  0%|          | 0/391 [00:00<?, ?it/s]"
          ],
          "name": "stderr"
        },
        {
          "output_type": "stream",
          "text": [
            "\n",
            "Test set: Average loss: 0.0038, Accuracy: 8340/10000 (83.40%)\n",
            "\n",
            "\n",
            "EPOCH: 11\n"
          ],
          "name": "stdout"
        },
        {
          "output_type": "stream",
          "text": [
            "Loss=0.3297498822212219 Batch_id=390 Accuracy=85.17: 100%|██████████| 391/391 [01:10<00:00,  6.23it/s]\n",
            "  0%|          | 0/391 [00:00<?, ?it/s]"
          ],
          "name": "stderr"
        },
        {
          "output_type": "stream",
          "text": [
            "\n",
            "Test set: Average loss: 0.0037, Accuracy: 8409/10000 (84.09%)\n",
            "\n",
            "\n",
            "EPOCH: 12\n"
          ],
          "name": "stdout"
        },
        {
          "output_type": "stream",
          "text": [
            "Loss=0.5120591521263123 Batch_id=390 Accuracy=85.86: 100%|██████████| 391/391 [01:10<00:00,  6.27it/s]\n",
            "  0%|          | 0/391 [00:00<?, ?it/s]"
          ],
          "name": "stderr"
        },
        {
          "output_type": "stream",
          "text": [
            "\n",
            "Test set: Average loss: 0.0037, Accuracy: 8467/10000 (84.67%)\n",
            "\n",
            "\n",
            "EPOCH: 13\n"
          ],
          "name": "stdout"
        },
        {
          "output_type": "stream",
          "text": [
            "Loss=0.3424359858036041 Batch_id=390 Accuracy=86.84: 100%|██████████| 391/391 [01:09<00:00,  6.34it/s]\n",
            "  0%|          | 0/391 [00:00<?, ?it/s]"
          ],
          "name": "stderr"
        },
        {
          "output_type": "stream",
          "text": [
            "\n",
            "Test set: Average loss: 0.0036, Accuracy: 8481/10000 (84.81%)\n",
            "\n",
            "\n",
            "EPOCH: 14\n"
          ],
          "name": "stdout"
        },
        {
          "output_type": "stream",
          "text": [
            "Loss=0.2278444766998291 Batch_id=390 Accuracy=87.45: 100%|██████████| 391/391 [01:09<00:00,  6.24it/s]\n",
            "  0%|          | 0/391 [00:00<?, ?it/s]"
          ],
          "name": "stderr"
        },
        {
          "output_type": "stream",
          "text": [
            "\n",
            "Test set: Average loss: 0.0036, Accuracy: 8456/10000 (84.56%)\n",
            "\n",
            "\n",
            "EPOCH: 15\n"
          ],
          "name": "stdout"
        },
        {
          "output_type": "stream",
          "text": [
            "Loss=0.15181602537631989 Batch_id=390 Accuracy=90.71: 100%|██████████| 391/391 [01:09<00:00,  6.27it/s]\n",
            "  0%|          | 0/391 [00:00<?, ?it/s]"
          ],
          "name": "stderr"
        },
        {
          "output_type": "stream",
          "text": [
            "\n",
            "Test set: Average loss: 0.0028, Accuracy: 8817/10000 (88.17%)\n",
            "\n",
            "\n",
            "EPOCH: 16\n"
          ],
          "name": "stdout"
        },
        {
          "output_type": "stream",
          "text": [
            "Loss=0.18561486899852753 Batch_id=390 Accuracy=91.79: 100%|██████████| 391/391 [01:10<00:00,  6.27it/s]\n",
            "  0%|          | 0/391 [00:00<?, ?it/s]"
          ],
          "name": "stderr"
        },
        {
          "output_type": "stream",
          "text": [
            "\n",
            "Test set: Average loss: 0.0027, Accuracy: 8843/10000 (88.43%)\n",
            "\n",
            "\n",
            "EPOCH: 17\n"
          ],
          "name": "stdout"
        },
        {
          "output_type": "stream",
          "text": [
            "Loss=0.30170923471450806 Batch_id=390 Accuracy=92.33: 100%|██████████| 391/391 [01:09<00:00,  6.31it/s]\n",
            "  0%|          | 0/391 [00:00<?, ?it/s]"
          ],
          "name": "stderr"
        },
        {
          "output_type": "stream",
          "text": [
            "\n",
            "Test set: Average loss: 0.0027, Accuracy: 8875/10000 (88.75%)\n",
            "\n",
            "\n",
            "EPOCH: 18\n"
          ],
          "name": "stdout"
        },
        {
          "output_type": "stream",
          "text": [
            "Loss=0.2980807423591614 Batch_id=390 Accuracy=92.71: 100%|██████████| 391/391 [01:09<00:00,  6.26it/s]\n",
            "  0%|          | 0/391 [00:00<?, ?it/s]"
          ],
          "name": "stderr"
        },
        {
          "output_type": "stream",
          "text": [
            "\n",
            "Test set: Average loss: 0.0027, Accuracy: 8877/10000 (88.77%)\n",
            "\n",
            "\n",
            "EPOCH: 19\n"
          ],
          "name": "stdout"
        },
        {
          "output_type": "stream",
          "text": [
            "Loss=0.15129873156547546 Batch_id=390 Accuracy=93.08: 100%|██████████| 391/391 [01:10<00:00,  6.18it/s]\n",
            "  0%|          | 0/391 [00:00<?, ?it/s]"
          ],
          "name": "stderr"
        },
        {
          "output_type": "stream",
          "text": [
            "\n",
            "Test set: Average loss: 0.0027, Accuracy: 8872/10000 (88.72%)\n",
            "\n",
            "\n",
            "EPOCH: 20\n"
          ],
          "name": "stdout"
        },
        {
          "output_type": "stream",
          "text": [
            "Loss=0.23219139873981476 Batch_id=390 Accuracy=93.10: 100%|██████████| 391/391 [01:10<00:00,  6.24it/s]\n"
          ],
          "name": "stderr"
        },
        {
          "output_type": "stream",
          "text": [
            "\n",
            "Test set: Average loss: 0.0026, Accuracy: 8876/10000 (88.76%)\n",
            "\n",
            "\n"
          ],
          "name": "stdout"
        }
      ]
    },
    {
      "cell_type": "code",
      "metadata": {
        "id": "qDpyzzxLoaXN",
        "colab_type": "code",
        "colab": {
          "base_uri": "https://localhost:8080/",
          "height": 660
        },
        "outputId": "de46333e-02ea-4bbb-bceb-3a8c84af09c3"
      },
      "source": [
        "tperform.test_performance(model, testloader, device, classes)"
      ],
      "execution_count": 16,
      "outputs": [
        {
          "output_type": "stream",
          "text": [
            "------------------------------------------------------------\n",
            "Model accuracy on 10000 test images: 88.76%\n",
            "------------------------------------------------------------\n",
            " \n",
            "Category   - Accuracy\n",
            "plane      - 90.10\n",
            "car        - 94.80\n",
            "bird       - 85.20\n",
            "cat        - 74.10\n",
            "deer       - 89.40\n",
            "dog        - 83.70\n",
            "frog       - 91.20\n",
            "horse      - 91.30\n",
            "ship       - 94.20\n",
            "truck      - 93.60\n",
            " \n"
          ],
          "name": "stdout"
        },
        {
          "output_type": "display_data",
          "data": {
            "image/png": "[encoded data removed]",
            "text/plain": [
              "<Figure size 576x432 with 1 Axes>"
            ]
          },
          "metadata": {
            "tags": []
          }
        }
      ]
    },
    {
      "cell_type": "code",
      "metadata": {
        "id": "ZW8yukb8od69",
        "colab_type": "code",
        "colab": {
          "base_uri": "https://localhost:8080/",
          "height": 492
        },
        "outputId": "dd45781d-4881-45a7-82f7-30bd2227e111"
      },
      "source": [
        "images, actuals, preds = misclassified.test_misclassified(model,device,testloader)\n",
        "misclassified.plot_images(images, actuals, preds, classes)"
      ],
      "execution_count": 18,
      "outputs": [
        {
          "output_type": "display_data",
          "data": {
            "image/png": "[encoded data removed]",
            "text/plain": [
              "<Figure size 792x576 with 15 Axes>"
            ]
          },
          "metadata": {
            "tags": []
          }
        }
      ]
    },
    {
      "cell_type": "code",
      "metadata": {
        "id": "itjdqxFmogJE",
        "colab_type": "code",
        "colab": {}
      },
      "source": [
        ""
      ],
      "execution_count": 0,
      "outputs": []
    }
  ]
}